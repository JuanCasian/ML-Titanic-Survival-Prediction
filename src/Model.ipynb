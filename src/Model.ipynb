{
 "cells": [
  {
   "cell_type": "code",
   "execution_count": 1,
   "metadata": {},
   "outputs": [],
   "source": [
    "import tensorflow as tf\n",
    "import pandas as pd\n",
    "import numpy as np\n",
    "import matplotlib.pyplot as plt\n",
    "%matplotlib inline"
   ]
  },
  {
   "cell_type": "code",
   "execution_count": 2,
   "metadata": {},
   "outputs": [],
   "source": [
    "path_train_data = \"/home/jp_capo_98/Documents/ML-Titanic/Data/train.csv\"\n",
    "path_test_data = \"/home/jp_capo_98/Documents/ML-Titanic/Data/test.csv\""
   ]
  },
  {
   "cell_type": "code",
   "execution_count": 3,
   "metadata": {},
   "outputs": [],
   "source": [
    "# import the data\n",
    "train_df = pd.read_csv(path_train_data)\n",
    "test_df = pd.read_csv(path_test_data)"
   ]
  },
  {
   "cell_type": "code",
   "execution_count": 4,
   "metadata": {},
   "outputs": [
    {
     "data": {
      "text/html": [
       "<div>\n",
       "<style scoped>\n",
       "    .dataframe tbody tr th:only-of-type {\n",
       "        vertical-align: middle;\n",
       "    }\n",
       "\n",
       "    .dataframe tbody tr th {\n",
       "        vertical-align: top;\n",
       "    }\n",
       "\n",
       "    .dataframe thead th {\n",
       "        text-align: right;\n",
       "    }\n",
       "</style>\n",
       "<table border=\"1\" class=\"dataframe\">\n",
       "  <thead>\n",
       "    <tr style=\"text-align: right;\">\n",
       "      <th></th>\n",
       "      <th>PassengerId</th>\n",
       "      <th>Survived</th>\n",
       "      <th>Pclass</th>\n",
       "      <th>Name</th>\n",
       "      <th>Sex</th>\n",
       "      <th>Age</th>\n",
       "      <th>SibSp</th>\n",
       "      <th>Parch</th>\n",
       "      <th>Ticket</th>\n",
       "      <th>Fare</th>\n",
       "      <th>Cabin</th>\n",
       "      <th>Embarked</th>\n",
       "    </tr>\n",
       "  </thead>\n",
       "  <tbody>\n",
       "    <tr>\n",
       "      <th>0</th>\n",
       "      <td>1</td>\n",
       "      <td>0</td>\n",
       "      <td>3</td>\n",
       "      <td>Braund, Mr. Owen Harris</td>\n",
       "      <td>male</td>\n",
       "      <td>22.0</td>\n",
       "      <td>1</td>\n",
       "      <td>0</td>\n",
       "      <td>A/5 21171</td>\n",
       "      <td>7.2500</td>\n",
       "      <td>NaN</td>\n",
       "      <td>S</td>\n",
       "    </tr>\n",
       "    <tr>\n",
       "      <th>1</th>\n",
       "      <td>2</td>\n",
       "      <td>1</td>\n",
       "      <td>1</td>\n",
       "      <td>Cumings, Mrs. John Bradley (Florence Briggs Th...</td>\n",
       "      <td>female</td>\n",
       "      <td>38.0</td>\n",
       "      <td>1</td>\n",
       "      <td>0</td>\n",
       "      <td>PC 17599</td>\n",
       "      <td>71.2833</td>\n",
       "      <td>C85</td>\n",
       "      <td>C</td>\n",
       "    </tr>\n",
       "    <tr>\n",
       "      <th>2</th>\n",
       "      <td>3</td>\n",
       "      <td>1</td>\n",
       "      <td>3</td>\n",
       "      <td>Heikkinen, Miss. Laina</td>\n",
       "      <td>female</td>\n",
       "      <td>26.0</td>\n",
       "      <td>0</td>\n",
       "      <td>0</td>\n",
       "      <td>STON/O2. 3101282</td>\n",
       "      <td>7.9250</td>\n",
       "      <td>NaN</td>\n",
       "      <td>S</td>\n",
       "    </tr>\n",
       "    <tr>\n",
       "      <th>3</th>\n",
       "      <td>4</td>\n",
       "      <td>1</td>\n",
       "      <td>1</td>\n",
       "      <td>Futrelle, Mrs. Jacques Heath (Lily May Peel)</td>\n",
       "      <td>female</td>\n",
       "      <td>35.0</td>\n",
       "      <td>1</td>\n",
       "      <td>0</td>\n",
       "      <td>113803</td>\n",
       "      <td>53.1000</td>\n",
       "      <td>C123</td>\n",
       "      <td>S</td>\n",
       "    </tr>\n",
       "    <tr>\n",
       "      <th>4</th>\n",
       "      <td>5</td>\n",
       "      <td>0</td>\n",
       "      <td>3</td>\n",
       "      <td>Allen, Mr. William Henry</td>\n",
       "      <td>male</td>\n",
       "      <td>35.0</td>\n",
       "      <td>0</td>\n",
       "      <td>0</td>\n",
       "      <td>373450</td>\n",
       "      <td>8.0500</td>\n",
       "      <td>NaN</td>\n",
       "      <td>S</td>\n",
       "    </tr>\n",
       "  </tbody>\n",
       "</table>\n",
       "</div>"
      ],
      "text/plain": [
       "   PassengerId  Survived  Pclass  \\\n",
       "0            1         0       3   \n",
       "1            2         1       1   \n",
       "2            3         1       3   \n",
       "3            4         1       1   \n",
       "4            5         0       3   \n",
       "\n",
       "                                                Name     Sex   Age  SibSp  \\\n",
       "0                            Braund, Mr. Owen Harris    male  22.0      1   \n",
       "1  Cumings, Mrs. John Bradley (Florence Briggs Th...  female  38.0      1   \n",
       "2                             Heikkinen, Miss. Laina  female  26.0      0   \n",
       "3       Futrelle, Mrs. Jacques Heath (Lily May Peel)  female  35.0      1   \n",
       "4                           Allen, Mr. William Henry    male  35.0      0   \n",
       "\n",
       "   Parch            Ticket     Fare Cabin Embarked  \n",
       "0      0         A/5 21171   7.2500   NaN        S  \n",
       "1      0          PC 17599  71.2833   C85        C  \n",
       "2      0  STON/O2. 3101282   7.9250   NaN        S  \n",
       "3      0            113803  53.1000  C123        S  \n",
       "4      0            373450   8.0500   NaN        S  "
      ]
     },
     "execution_count": 4,
     "metadata": {},
     "output_type": "execute_result"
    }
   ],
   "source": [
    "# visualize data\n",
    "train_df.head()"
   ]
  },
  {
   "cell_type": "code",
   "execution_count": 5,
   "metadata": {},
   "outputs": [
    {
     "data": {
      "text/html": [
       "<div>\n",
       "<style scoped>\n",
       "    .dataframe tbody tr th:only-of-type {\n",
       "        vertical-align: middle;\n",
       "    }\n",
       "\n",
       "    .dataframe tbody tr th {\n",
       "        vertical-align: top;\n",
       "    }\n",
       "\n",
       "    .dataframe thead th {\n",
       "        text-align: right;\n",
       "    }\n",
       "</style>\n",
       "<table border=\"1\" class=\"dataframe\">\n",
       "  <thead>\n",
       "    <tr style=\"text-align: right;\">\n",
       "      <th></th>\n",
       "      <th>PassengerId</th>\n",
       "      <th>Pclass</th>\n",
       "      <th>Name</th>\n",
       "      <th>Sex</th>\n",
       "      <th>Age</th>\n",
       "      <th>SibSp</th>\n",
       "      <th>Parch</th>\n",
       "      <th>Ticket</th>\n",
       "      <th>Fare</th>\n",
       "      <th>Cabin</th>\n",
       "      <th>Embarked</th>\n",
       "    </tr>\n",
       "  </thead>\n",
       "  <tbody>\n",
       "    <tr>\n",
       "      <th>0</th>\n",
       "      <td>892</td>\n",
       "      <td>3</td>\n",
       "      <td>Kelly, Mr. James</td>\n",
       "      <td>male</td>\n",
       "      <td>34.5</td>\n",
       "      <td>0</td>\n",
       "      <td>0</td>\n",
       "      <td>330911</td>\n",
       "      <td>7.8292</td>\n",
       "      <td>NaN</td>\n",
       "      <td>Q</td>\n",
       "    </tr>\n",
       "    <tr>\n",
       "      <th>1</th>\n",
       "      <td>893</td>\n",
       "      <td>3</td>\n",
       "      <td>Wilkes, Mrs. James (Ellen Needs)</td>\n",
       "      <td>female</td>\n",
       "      <td>47.0</td>\n",
       "      <td>1</td>\n",
       "      <td>0</td>\n",
       "      <td>363272</td>\n",
       "      <td>7.0000</td>\n",
       "      <td>NaN</td>\n",
       "      <td>S</td>\n",
       "    </tr>\n",
       "    <tr>\n",
       "      <th>2</th>\n",
       "      <td>894</td>\n",
       "      <td>2</td>\n",
       "      <td>Myles, Mr. Thomas Francis</td>\n",
       "      <td>male</td>\n",
       "      <td>62.0</td>\n",
       "      <td>0</td>\n",
       "      <td>0</td>\n",
       "      <td>240276</td>\n",
       "      <td>9.6875</td>\n",
       "      <td>NaN</td>\n",
       "      <td>Q</td>\n",
       "    </tr>\n",
       "    <tr>\n",
       "      <th>3</th>\n",
       "      <td>895</td>\n",
       "      <td>3</td>\n",
       "      <td>Wirz, Mr. Albert</td>\n",
       "      <td>male</td>\n",
       "      <td>27.0</td>\n",
       "      <td>0</td>\n",
       "      <td>0</td>\n",
       "      <td>315154</td>\n",
       "      <td>8.6625</td>\n",
       "      <td>NaN</td>\n",
       "      <td>S</td>\n",
       "    </tr>\n",
       "    <tr>\n",
       "      <th>4</th>\n",
       "      <td>896</td>\n",
       "      <td>3</td>\n",
       "      <td>Hirvonen, Mrs. Alexander (Helga E Lindqvist)</td>\n",
       "      <td>female</td>\n",
       "      <td>22.0</td>\n",
       "      <td>1</td>\n",
       "      <td>1</td>\n",
       "      <td>3101298</td>\n",
       "      <td>12.2875</td>\n",
       "      <td>NaN</td>\n",
       "      <td>S</td>\n",
       "    </tr>\n",
       "  </tbody>\n",
       "</table>\n",
       "</div>"
      ],
      "text/plain": [
       "   PassengerId  Pclass                                          Name     Sex  \\\n",
       "0          892       3                              Kelly, Mr. James    male   \n",
       "1          893       3              Wilkes, Mrs. James (Ellen Needs)  female   \n",
       "2          894       2                     Myles, Mr. Thomas Francis    male   \n",
       "3          895       3                              Wirz, Mr. Albert    male   \n",
       "4          896       3  Hirvonen, Mrs. Alexander (Helga E Lindqvist)  female   \n",
       "\n",
       "    Age  SibSp  Parch   Ticket     Fare Cabin Embarked  \n",
       "0  34.5      0      0   330911   7.8292   NaN        Q  \n",
       "1  47.0      1      0   363272   7.0000   NaN        S  \n",
       "2  62.0      0      0   240276   9.6875   NaN        Q  \n",
       "3  27.0      0      0   315154   8.6625   NaN        S  \n",
       "4  22.0      1      1  3101298  12.2875   NaN        S  "
      ]
     },
     "execution_count": 5,
     "metadata": {},
     "output_type": "execute_result"
    }
   ],
   "source": [
    "test_df.head()"
   ]
  },
  {
   "cell_type": "code",
   "execution_count": 6,
   "metadata": {},
   "outputs": [],
   "source": [
    "# get the labels\n",
    "labels = train_df[\"Survived\"]"
   ]
  },
  {
   "cell_type": "code",
   "execution_count": 7,
   "metadata": {},
   "outputs": [],
   "source": [
    "# get the important features\n",
    "train_features = train_df[[\"Pclass\", \"Sex\", \"Age\"]]\n",
    "test_features = test_df[[\"Pclass\", \"Sex\", \"Age\"]]"
   ]
  },
  {
   "cell_type": "code",
   "execution_count": 8,
   "metadata": {},
   "outputs": [
    {
     "data": {
      "text/html": [
       "<div>\n",
       "<style scoped>\n",
       "    .dataframe tbody tr th:only-of-type {\n",
       "        vertical-align: middle;\n",
       "    }\n",
       "\n",
       "    .dataframe tbody tr th {\n",
       "        vertical-align: top;\n",
       "    }\n",
       "\n",
       "    .dataframe thead th {\n",
       "        text-align: right;\n",
       "    }\n",
       "</style>\n",
       "<table border=\"1\" class=\"dataframe\">\n",
       "  <thead>\n",
       "    <tr style=\"text-align: right;\">\n",
       "      <th></th>\n",
       "      <th>Pclass</th>\n",
       "      <th>Sex</th>\n",
       "      <th>Age</th>\n",
       "    </tr>\n",
       "  </thead>\n",
       "  <tbody>\n",
       "    <tr>\n",
       "      <th>0</th>\n",
       "      <td>3</td>\n",
       "      <td>male</td>\n",
       "      <td>22.0</td>\n",
       "    </tr>\n",
       "    <tr>\n",
       "      <th>1</th>\n",
       "      <td>1</td>\n",
       "      <td>female</td>\n",
       "      <td>38.0</td>\n",
       "    </tr>\n",
       "    <tr>\n",
       "      <th>2</th>\n",
       "      <td>3</td>\n",
       "      <td>female</td>\n",
       "      <td>26.0</td>\n",
       "    </tr>\n",
       "    <tr>\n",
       "      <th>3</th>\n",
       "      <td>1</td>\n",
       "      <td>female</td>\n",
       "      <td>35.0</td>\n",
       "    </tr>\n",
       "    <tr>\n",
       "      <th>4</th>\n",
       "      <td>3</td>\n",
       "      <td>male</td>\n",
       "      <td>35.0</td>\n",
       "    </tr>\n",
       "  </tbody>\n",
       "</table>\n",
       "</div>"
      ],
      "text/plain": [
       "   Pclass     Sex   Age\n",
       "0       3    male  22.0\n",
       "1       1  female  38.0\n",
       "2       3  female  26.0\n",
       "3       1  female  35.0\n",
       "4       3    male  35.0"
      ]
     },
     "execution_count": 8,
     "metadata": {},
     "output_type": "execute_result"
    }
   ],
   "source": [
    "train_features.head()"
   ]
  },
  {
   "cell_type": "code",
   "execution_count": 9,
   "metadata": {},
   "outputs": [
    {
     "data": {
      "text/html": [
       "<div>\n",
       "<style scoped>\n",
       "    .dataframe tbody tr th:only-of-type {\n",
       "        vertical-align: middle;\n",
       "    }\n",
       "\n",
       "    .dataframe tbody tr th {\n",
       "        vertical-align: top;\n",
       "    }\n",
       "\n",
       "    .dataframe thead th {\n",
       "        text-align: right;\n",
       "    }\n",
       "</style>\n",
       "<table border=\"1\" class=\"dataframe\">\n",
       "  <thead>\n",
       "    <tr style=\"text-align: right;\">\n",
       "      <th></th>\n",
       "      <th>Pclass</th>\n",
       "      <th>Sex</th>\n",
       "      <th>Age</th>\n",
       "    </tr>\n",
       "  </thead>\n",
       "  <tbody>\n",
       "    <tr>\n",
       "      <th>0</th>\n",
       "      <td>3</td>\n",
       "      <td>male</td>\n",
       "      <td>34.5</td>\n",
       "    </tr>\n",
       "    <tr>\n",
       "      <th>1</th>\n",
       "      <td>3</td>\n",
       "      <td>female</td>\n",
       "      <td>47.0</td>\n",
       "    </tr>\n",
       "    <tr>\n",
       "      <th>2</th>\n",
       "      <td>2</td>\n",
       "      <td>male</td>\n",
       "      <td>62.0</td>\n",
       "    </tr>\n",
       "    <tr>\n",
       "      <th>3</th>\n",
       "      <td>3</td>\n",
       "      <td>male</td>\n",
       "      <td>27.0</td>\n",
       "    </tr>\n",
       "    <tr>\n",
       "      <th>4</th>\n",
       "      <td>3</td>\n",
       "      <td>female</td>\n",
       "      <td>22.0</td>\n",
       "    </tr>\n",
       "  </tbody>\n",
       "</table>\n",
       "</div>"
      ],
      "text/plain": [
       "   Pclass     Sex   Age\n",
       "0       3    male  34.5\n",
       "1       3  female  47.0\n",
       "2       2    male  62.0\n",
       "3       3    male  27.0\n",
       "4       3  female  22.0"
      ]
     },
     "execution_count": 9,
     "metadata": {},
     "output_type": "execute_result"
    }
   ],
   "source": [
    "test_features.head()"
   ]
  },
  {
   "cell_type": "code",
   "execution_count": 10,
   "metadata": {},
   "outputs": [
    {
     "data": {
      "text/plain": [
       "Pclass    False\n",
       "Sex       False\n",
       "Age        True\n",
       "dtype: bool"
      ]
     },
     "execution_count": 10,
     "metadata": {},
     "output_type": "execute_result"
    }
   ],
   "source": [
    "# look for missing values\n",
    "train_features.isnull().any()"
   ]
  },
  {
   "cell_type": "code",
   "execution_count": 11,
   "metadata": {},
   "outputs": [
    {
     "data": {
      "text/plain": [
       "Pclass    False\n",
       "Sex       False\n",
       "Age        True\n",
       "dtype: bool"
      ]
     },
     "execution_count": 11,
     "metadata": {},
     "output_type": "execute_result"
    }
   ],
   "source": [
    "test_features.isnull().any()"
   ]
  },
  {
   "cell_type": "code",
   "execution_count": 12,
   "metadata": {},
   "outputs": [
    {
     "name": "stdout",
     "output_type": "stream",
     "text": [
      "29.69911764705882\n"
     ]
    }
   ],
   "source": [
    "age_mean = np.mean(train_features[\"Age\"])\n",
    "print(age_mean)"
   ]
  },
  {
   "cell_type": "code",
   "execution_count": 13,
   "metadata": {},
   "outputs": [
    {
     "name": "stderr",
     "output_type": "stream",
     "text": [
      "/usr/local/lib/python3.5/dist-packages/pandas/core/generic.py:5434: SettingWithCopyWarning: \n",
      "A value is trying to be set on a copy of a slice from a DataFrame\n",
      "\n",
      "See the caveats in the documentation: http://pandas.pydata.org/pandas-docs/stable/indexing.html#indexing-view-versus-copy\n",
      "  self._update_inplace(new_data)\n"
     ]
    }
   ],
   "source": [
    "# Fill missing ages with the mean\n",
    "train_features[\"Age\"].fillna(age_mean, inplace=True)\n",
    "test_features[\"Age\"].fillna(age_mean, inplace=True)"
   ]
  },
  {
   "cell_type": "code",
   "execution_count": 14,
   "metadata": {},
   "outputs": [
    {
     "data": {
      "text/plain": [
       "(array([ 54.,  46., 177., 346., 118.,  70.,  45.,  24.,   9.,   2.]),\n",
       " array([ 0.42 ,  8.378, 16.336, 24.294, 32.252, 40.21 , 48.168, 56.126,\n",
       "        64.084, 72.042, 80.   ]),\n",
       " <a list of 10 Patch objects>)"
      ]
     },
     "execution_count": 14,
     "metadata": {},
     "output_type": "execute_result"
    },
    {
     "data": {
      "image/png": "[encoded data removed]",
      "text/plain": [
       "<Figure size 432x288 with 1 Axes>"
      ]
     },
     "metadata": {},
     "output_type": "display_data"
    }
   ],
   "source": [
    "# Visualize the distribution of ages\n",
    "plt.hist(train_features[\"Age\"])"
   ]
  },
  {
   "cell_type": "code",
   "execution_count": 15,
   "metadata": {},
   "outputs": [
    {
     "data": {
      "text/plain": [
       "array([3, 1, 2])"
      ]
     },
     "execution_count": 15,
     "metadata": {},
     "output_type": "execute_result"
    }
   ],
   "source": [
    "# get the numnber of clases\n",
    "train_features[\"Pclass\"].unique()"
   ]
  },
  {
   "cell_type": "code",
   "execution_count": 16,
   "metadata": {},
   "outputs": [
    {
     "data": {
      "text/html": [
       "<div>\n",
       "<style scoped>\n",
       "    .dataframe tbody tr th:only-of-type {\n",
       "        vertical-align: middle;\n",
       "    }\n",
       "\n",
       "    .dataframe tbody tr th {\n",
       "        vertical-align: top;\n",
       "    }\n",
       "\n",
       "    .dataframe thead th {\n",
       "        text-align: right;\n",
       "    }\n",
       "</style>\n",
       "<table border=\"1\" class=\"dataframe\">\n",
       "  <thead>\n",
       "    <tr style=\"text-align: right;\">\n",
       "      <th></th>\n",
       "      <th>Age</th>\n",
       "      <th>Pclass__1</th>\n",
       "      <th>Pclass__2</th>\n",
       "      <th>Pclass__3</th>\n",
       "      <th>Sex__female</th>\n",
       "      <th>Sex__male</th>\n",
       "    </tr>\n",
       "  </thead>\n",
       "  <tbody>\n",
       "    <tr>\n",
       "      <th>0</th>\n",
       "      <td>22.0</td>\n",
       "      <td>0.0</td>\n",
       "      <td>0.0</td>\n",
       "      <td>1.0</td>\n",
       "      <td>0.0</td>\n",
       "      <td>1.0</td>\n",
       "    </tr>\n",
       "    <tr>\n",
       "      <th>1</th>\n",
       "      <td>38.0</td>\n",
       "      <td>1.0</td>\n",
       "      <td>0.0</td>\n",
       "      <td>0.0</td>\n",
       "      <td>1.0</td>\n",
       "      <td>0.0</td>\n",
       "    </tr>\n",
       "    <tr>\n",
       "      <th>2</th>\n",
       "      <td>26.0</td>\n",
       "      <td>0.0</td>\n",
       "      <td>0.0</td>\n",
       "      <td>1.0</td>\n",
       "      <td>1.0</td>\n",
       "      <td>0.0</td>\n",
       "    </tr>\n",
       "    <tr>\n",
       "      <th>3</th>\n",
       "      <td>35.0</td>\n",
       "      <td>1.0</td>\n",
       "      <td>0.0</td>\n",
       "      <td>0.0</td>\n",
       "      <td>1.0</td>\n",
       "      <td>0.0</td>\n",
       "    </tr>\n",
       "    <tr>\n",
       "      <th>4</th>\n",
       "      <td>35.0</td>\n",
       "      <td>0.0</td>\n",
       "      <td>0.0</td>\n",
       "      <td>1.0</td>\n",
       "      <td>0.0</td>\n",
       "      <td>1.0</td>\n",
       "    </tr>\n",
       "  </tbody>\n",
       "</table>\n",
       "</div>"
      ],
      "text/plain": [
       "    Age  Pclass__1  Pclass__2  Pclass__3  Sex__female  Sex__male\n",
       "0  22.0        0.0        0.0        1.0          0.0        1.0\n",
       "1  38.0        1.0        0.0        0.0          1.0        0.0\n",
       "2  26.0        0.0        0.0        1.0          1.0        0.0\n",
       "3  35.0        1.0        0.0        0.0          1.0        0.0\n",
       "4  35.0        0.0        0.0        1.0          0.0        1.0"
      ]
     },
     "execution_count": 16,
     "metadata": {},
     "output_type": "execute_result"
    }
   ],
   "source": [
    "# one hot encode\n",
    "train_features = pd.concat([train_features.drop([\"Pclass\", \"Sex\"], axis=1), pd.get_dummies(train_features[\"Pclass\"], prefix=\"Pclass_\", dtype=np.float32), pd.get_dummies(train_features[\"Sex\"], prefix=\"Sex_\", dtype=np.float32)], axis=1)\n",
    "train_features.head()"
   ]
  },
  {
   "cell_type": "code",
   "execution_count": 17,
   "metadata": {},
   "outputs": [
    {
     "data": {
      "text/html": [
       "<div>\n",
       "<style scoped>\n",
       "    .dataframe tbody tr th:only-of-type {\n",
       "        vertical-align: middle;\n",
       "    }\n",
       "\n",
       "    .dataframe tbody tr th {\n",
       "        vertical-align: top;\n",
       "    }\n",
       "\n",
       "    .dataframe thead th {\n",
       "        text-align: right;\n",
       "    }\n",
       "</style>\n",
       "<table border=\"1\" class=\"dataframe\">\n",
       "  <thead>\n",
       "    <tr style=\"text-align: right;\">\n",
       "      <th></th>\n",
       "      <th>Age</th>\n",
       "      <th>Pclass__1</th>\n",
       "      <th>Pclass__2</th>\n",
       "      <th>Pclass__3</th>\n",
       "      <th>Sex__female</th>\n",
       "      <th>Sex__male</th>\n",
       "    </tr>\n",
       "  </thead>\n",
       "  <tbody>\n",
       "    <tr>\n",
       "      <th>0</th>\n",
       "      <td>34.5</td>\n",
       "      <td>0.0</td>\n",
       "      <td>0.0</td>\n",
       "      <td>1.0</td>\n",
       "      <td>0.0</td>\n",
       "      <td>1.0</td>\n",
       "    </tr>\n",
       "    <tr>\n",
       "      <th>1</th>\n",
       "      <td>47.0</td>\n",
       "      <td>0.0</td>\n",
       "      <td>0.0</td>\n",
       "      <td>1.0</td>\n",
       "      <td>1.0</td>\n",
       "      <td>0.0</td>\n",
       "    </tr>\n",
       "    <tr>\n",
       "      <th>2</th>\n",
       "      <td>62.0</td>\n",
       "      <td>0.0</td>\n",
       "      <td>1.0</td>\n",
       "      <td>0.0</td>\n",
       "      <td>0.0</td>\n",
       "      <td>1.0</td>\n",
       "    </tr>\n",
       "    <tr>\n",
       "      <th>3</th>\n",
       "      <td>27.0</td>\n",
       "      <td>0.0</td>\n",
       "      <td>0.0</td>\n",
       "      <td>1.0</td>\n",
       "      <td>0.0</td>\n",
       "      <td>1.0</td>\n",
       "    </tr>\n",
       "    <tr>\n",
       "      <th>4</th>\n",
       "      <td>22.0</td>\n",
       "      <td>0.0</td>\n",
       "      <td>0.0</td>\n",
       "      <td>1.0</td>\n",
       "      <td>1.0</td>\n",
       "      <td>0.0</td>\n",
       "    </tr>\n",
       "  </tbody>\n",
       "</table>\n",
       "</div>"
      ],
      "text/plain": [
       "    Age  Pclass__1  Pclass__2  Pclass__3  Sex__female  Sex__male\n",
       "0  34.5        0.0        0.0        1.0          0.0        1.0\n",
       "1  47.0        0.0        0.0        1.0          1.0        0.0\n",
       "2  62.0        0.0        1.0        0.0          0.0        1.0\n",
       "3  27.0        0.0        0.0        1.0          0.0        1.0\n",
       "4  22.0        0.0        0.0        1.0          1.0        0.0"
      ]
     },
     "execution_count": 17,
     "metadata": {},
     "output_type": "execute_result"
    }
   ],
   "source": [
    "test_features = pd.concat([test_features.drop([\"Pclass\", \"Sex\"], axis=1), pd.get_dummies(test_features[\"Pclass\"], prefix=\"Pclass_\", dtype=np.float32), pd.get_dummies(test_features[\"Sex\"], prefix=\"Sex_\", dtype=np.float32)], axis=1)\n",
    "test_features.head()"
   ]
  },
  {
   "cell_type": "code",
   "execution_count": 18,
   "metadata": {},
   "outputs": [
    {
     "data": {
      "text/html": [
       "<div>\n",
       "<style scoped>\n",
       "    .dataframe tbody tr th:only-of-type {\n",
       "        vertical-align: middle;\n",
       "    }\n",
       "\n",
       "    .dataframe tbody tr th {\n",
       "        vertical-align: top;\n",
       "    }\n",
       "\n",
       "    .dataframe thead th {\n",
       "        text-align: right;\n",
       "    }\n",
       "</style>\n",
       "<table border=\"1\" class=\"dataframe\">\n",
       "  <thead>\n",
       "    <tr style=\"text-align: right;\">\n",
       "      <th></th>\n",
       "      <th>Pclass__1</th>\n",
       "      <th>Pclass__2</th>\n",
       "      <th>Pclass__3</th>\n",
       "      <th>Sex__female</th>\n",
       "      <th>Sex__male</th>\n",
       "      <th>Age_(0, 10]</th>\n",
       "      <th>Age_(10, 20]</th>\n",
       "      <th>Age_(20, 30]</th>\n",
       "      <th>Age_(30, 60]</th>\n",
       "      <th>Age_(60, 100]</th>\n",
       "    </tr>\n",
       "  </thead>\n",
       "  <tbody>\n",
       "    <tr>\n",
       "      <th>0</th>\n",
       "      <td>0.0</td>\n",
       "      <td>0.0</td>\n",
       "      <td>1.0</td>\n",
       "      <td>0.0</td>\n",
       "      <td>1.0</td>\n",
       "      <td>0.0</td>\n",
       "      <td>0.0</td>\n",
       "      <td>1.0</td>\n",
       "      <td>0.0</td>\n",
       "      <td>0.0</td>\n",
       "    </tr>\n",
       "    <tr>\n",
       "      <th>1</th>\n",
       "      <td>1.0</td>\n",
       "      <td>0.0</td>\n",
       "      <td>0.0</td>\n",
       "      <td>1.0</td>\n",
       "      <td>0.0</td>\n",
       "      <td>0.0</td>\n",
       "      <td>0.0</td>\n",
       "      <td>0.0</td>\n",
       "      <td>1.0</td>\n",
       "      <td>0.0</td>\n",
       "    </tr>\n",
       "    <tr>\n",
       "      <th>2</th>\n",
       "      <td>0.0</td>\n",
       "      <td>0.0</td>\n",
       "      <td>1.0</td>\n",
       "      <td>1.0</td>\n",
       "      <td>0.0</td>\n",
       "      <td>0.0</td>\n",
       "      <td>0.0</td>\n",
       "      <td>1.0</td>\n",
       "      <td>0.0</td>\n",
       "      <td>0.0</td>\n",
       "    </tr>\n",
       "    <tr>\n",
       "      <th>3</th>\n",
       "      <td>1.0</td>\n",
       "      <td>0.0</td>\n",
       "      <td>0.0</td>\n",
       "      <td>1.0</td>\n",
       "      <td>0.0</td>\n",
       "      <td>0.0</td>\n",
       "      <td>0.0</td>\n",
       "      <td>0.0</td>\n",
       "      <td>1.0</td>\n",
       "      <td>0.0</td>\n",
       "    </tr>\n",
       "    <tr>\n",
       "      <th>4</th>\n",
       "      <td>0.0</td>\n",
       "      <td>0.0</td>\n",
       "      <td>1.0</td>\n",
       "      <td>0.0</td>\n",
       "      <td>1.0</td>\n",
       "      <td>0.0</td>\n",
       "      <td>0.0</td>\n",
       "      <td>0.0</td>\n",
       "      <td>1.0</td>\n",
       "      <td>0.0</td>\n",
       "    </tr>\n",
       "  </tbody>\n",
       "</table>\n",
       "</div>"
      ],
      "text/plain": [
       "   Pclass__1  Pclass__2  Pclass__3  Sex__female  Sex__male  Age_(0, 10]  \\\n",
       "0        0.0        0.0        1.0          0.0        1.0          0.0   \n",
       "1        1.0        0.0        0.0          1.0        0.0          0.0   \n",
       "2        0.0        0.0        1.0          1.0        0.0          0.0   \n",
       "3        1.0        0.0        0.0          1.0        0.0          0.0   \n",
       "4        0.0        0.0        1.0          0.0        1.0          0.0   \n",
       "\n",
       "   Age_(10, 20]  Age_(20, 30]  Age_(30, 60]  Age_(60, 100]  \n",
       "0           0.0           1.0           0.0            0.0  \n",
       "1           0.0           0.0           1.0            0.0  \n",
       "2           0.0           1.0           0.0            0.0  \n",
       "3           0.0           0.0           1.0            0.0  \n",
       "4           0.0           0.0           1.0            0.0  "
      ]
     },
     "execution_count": 18,
     "metadata": {},
     "output_type": "execute_result"
    }
   ],
   "source": [
    "# bucketize the age\n",
    "train_features = pd.concat([train_features.drop(\"Age\", axis=1),pd.get_dummies(pd.cut(train_features[\"Age\"], [0,10,20,30,60,100]), prefix=\"Age\", dtype=np.float32)], axis=1)\n",
    "train_features.head()"
   ]
  },
  {
   "cell_type": "code",
   "execution_count": 19,
   "metadata": {},
   "outputs": [
    {
     "data": {
      "text/html": [
       "<div>\n",
       "<style scoped>\n",
       "    .dataframe tbody tr th:only-of-type {\n",
       "        vertical-align: middle;\n",
       "    }\n",
       "\n",
       "    .dataframe tbody tr th {\n",
       "        vertical-align: top;\n",
       "    }\n",
       "\n",
       "    .dataframe thead th {\n",
       "        text-align: right;\n",
       "    }\n",
       "</style>\n",
       "<table border=\"1\" class=\"dataframe\">\n",
       "  <thead>\n",
       "    <tr style=\"text-align: right;\">\n",
       "      <th></th>\n",
       "      <th>Pclass__1</th>\n",
       "      <th>Pclass__2</th>\n",
       "      <th>Pclass__3</th>\n",
       "      <th>Sex__female</th>\n",
       "      <th>Sex__male</th>\n",
       "      <th>Age_(0, 10]</th>\n",
       "      <th>Age_(10, 20]</th>\n",
       "      <th>Age_(20, 30]</th>\n",
       "      <th>Age_(30, 60]</th>\n",
       "      <th>Age_(60, 100]</th>\n",
       "    </tr>\n",
       "  </thead>\n",
       "  <tbody>\n",
       "    <tr>\n",
       "      <th>0</th>\n",
       "      <td>0.0</td>\n",
       "      <td>0.0</td>\n",
       "      <td>1.0</td>\n",
       "      <td>0.0</td>\n",
       "      <td>1.0</td>\n",
       "      <td>0.0</td>\n",
       "      <td>0.0</td>\n",
       "      <td>0.0</td>\n",
       "      <td>1.0</td>\n",
       "      <td>0.0</td>\n",
       "    </tr>\n",
       "    <tr>\n",
       "      <th>1</th>\n",
       "      <td>0.0</td>\n",
       "      <td>0.0</td>\n",
       "      <td>1.0</td>\n",
       "      <td>1.0</td>\n",
       "      <td>0.0</td>\n",
       "      <td>0.0</td>\n",
       "      <td>0.0</td>\n",
       "      <td>0.0</td>\n",
       "      <td>1.0</td>\n",
       "      <td>0.0</td>\n",
       "    </tr>\n",
       "    <tr>\n",
       "      <th>2</th>\n",
       "      <td>0.0</td>\n",
       "      <td>1.0</td>\n",
       "      <td>0.0</td>\n",
       "      <td>0.0</td>\n",
       "      <td>1.0</td>\n",
       "      <td>0.0</td>\n",
       "      <td>0.0</td>\n",
       "      <td>0.0</td>\n",
       "      <td>0.0</td>\n",
       "      <td>1.0</td>\n",
       "    </tr>\n",
       "    <tr>\n",
       "      <th>3</th>\n",
       "      <td>0.0</td>\n",
       "      <td>0.0</td>\n",
       "      <td>1.0</td>\n",
       "      <td>0.0</td>\n",
       "      <td>1.0</td>\n",
       "      <td>0.0</td>\n",
       "      <td>0.0</td>\n",
       "      <td>1.0</td>\n",
       "      <td>0.0</td>\n",
       "      <td>0.0</td>\n",
       "    </tr>\n",
       "    <tr>\n",
       "      <th>4</th>\n",
       "      <td>0.0</td>\n",
       "      <td>0.0</td>\n",
       "      <td>1.0</td>\n",
       "      <td>1.0</td>\n",
       "      <td>0.0</td>\n",
       "      <td>0.0</td>\n",
       "      <td>0.0</td>\n",
       "      <td>1.0</td>\n",
       "      <td>0.0</td>\n",
       "      <td>0.0</td>\n",
       "    </tr>\n",
       "  </tbody>\n",
       "</table>\n",
       "</div>"
      ],
      "text/plain": [
       "   Pclass__1  Pclass__2  Pclass__3  Sex__female  Sex__male  Age_(0, 10]  \\\n",
       "0        0.0        0.0        1.0          0.0        1.0          0.0   \n",
       "1        0.0        0.0        1.0          1.0        0.0          0.0   \n",
       "2        0.0        1.0        0.0          0.0        1.0          0.0   \n",
       "3        0.0        0.0        1.0          0.0        1.0          0.0   \n",
       "4        0.0        0.0        1.0          1.0        0.0          0.0   \n",
       "\n",
       "   Age_(10, 20]  Age_(20, 30]  Age_(30, 60]  Age_(60, 100]  \n",
       "0           0.0           0.0           1.0            0.0  \n",
       "1           0.0           0.0           1.0            0.0  \n",
       "2           0.0           0.0           0.0            1.0  \n",
       "3           0.0           1.0           0.0            0.0  \n",
       "4           0.0           1.0           0.0            0.0  "
      ]
     },
     "execution_count": 19,
     "metadata": {},
     "output_type": "execute_result"
    }
   ],
   "source": [
    "test_features = pd.concat([test_features.drop(\"Age\", axis=1),pd.get_dummies(pd.cut(test_features[\"Age\"], [0,10,20,30,60,100]), prefix=\"Age\", dtype=np.float32)], axis=1)\n",
    "test_features.head()"
   ]
  },
  {
   "cell_type": "code",
   "execution_count": 20,
   "metadata": {},
   "outputs": [
    {
     "data": {
      "text/html": [
       "<div>\n",
       "<style scoped>\n",
       "    .dataframe tbody tr th:only-of-type {\n",
       "        vertical-align: middle;\n",
       "    }\n",
       "\n",
       "    .dataframe tbody tr th {\n",
       "        vertical-align: top;\n",
       "    }\n",
       "\n",
       "    .dataframe thead th {\n",
       "        text-align: right;\n",
       "    }\n",
       "</style>\n",
       "<table border=\"1\" class=\"dataframe\">\n",
       "  <thead>\n",
       "    <tr style=\"text-align: right;\">\n",
       "      <th></th>\n",
       "      <th>Survived_0</th>\n",
       "      <th>Survived_1</th>\n",
       "    </tr>\n",
       "  </thead>\n",
       "  <tbody>\n",
       "    <tr>\n",
       "      <th>0</th>\n",
       "      <td>1</td>\n",
       "      <td>0</td>\n",
       "    </tr>\n",
       "    <tr>\n",
       "      <th>1</th>\n",
       "      <td>0</td>\n",
       "      <td>1</td>\n",
       "    </tr>\n",
       "    <tr>\n",
       "      <th>2</th>\n",
       "      <td>0</td>\n",
       "      <td>1</td>\n",
       "    </tr>\n",
       "    <tr>\n",
       "      <th>3</th>\n",
       "      <td>0</td>\n",
       "      <td>1</td>\n",
       "    </tr>\n",
       "    <tr>\n",
       "      <th>4</th>\n",
       "      <td>1</td>\n",
       "      <td>0</td>\n",
       "    </tr>\n",
       "  </tbody>\n",
       "</table>\n",
       "</div>"
      ],
      "text/plain": [
       "   Survived_0  Survived_1\n",
       "0           1           0\n",
       "1           0           1\n",
       "2           0           1\n",
       "3           0           1\n",
       "4           1           0"
      ]
     },
     "execution_count": 20,
     "metadata": {},
     "output_type": "execute_result"
    }
   ],
   "source": [
    "# one hot encode the labels\n",
    "labels = pd.get_dummies(labels, prefix=\"Survived\")\n",
    "labels.head()"
   ]
  },
  {
   "cell_type": "code",
   "execution_count": 21,
   "metadata": {},
   "outputs": [
    {
     "name": "stdout",
     "output_type": "stream",
     "text": [
      "Training_shape: (891, 10)\tTest_shape: (418, 10)\tLabels_shape: (891, 2)\n"
     ]
    }
   ],
   "source": [
    "print(\"Training_shape: {}\\tTest_shape: {}\\tLabels_shape: {}\".format(train_features.shape, test_features.shape, labels.shape))"
   ]
  },
  {
   "cell_type": "code",
   "execution_count": 22,
   "metadata": {},
   "outputs": [
    {
     "data": {
      "text/plain": [
       "dtype('float32')"
      ]
     },
     "execution_count": 22,
     "metadata": {},
     "output_type": "execute_result"
    }
   ],
   "source": [
    "train_features[\"Pclass__3\"].dtype"
   ]
  },
  {
   "cell_type": "markdown",
   "metadata": {},
   "source": [
    "### Separate Data"
   ]
  },
  {
   "cell_type": "code",
   "execution_count": 23,
   "metadata": {},
   "outputs": [],
   "source": [
    "train_x = train_features.iloc[:750]\n",
    "train_y = labels.iloc[:750]\n",
    "validation_x = train_features.iloc[750:]\n",
    "validation_y = labels.iloc[750:]"
   ]
  },
  {
   "cell_type": "markdown",
   "metadata": {},
   "source": [
    "### Helper functions"
   ]
  },
  {
   "cell_type": "code",
   "execution_count": 24,
   "metadata": {},
   "outputs": [],
   "source": [
    "# weight initialization helper function\n",
    "def init_weights(shape):\n",
    "    init_random_dist = tf.truncated_normal(shape, stddev=0.1)\n",
    "    return(tf.Variable(init_random_dist))"
   ]
  },
  {
   "cell_type": "code",
   "execution_count": 25,
   "metadata": {},
   "outputs": [],
   "source": [
    "# bias initialization function\n",
    "def init_bias(shape):\n",
    "    init_bias_vals = tf.constant(0.1,  shape=shape)\n",
    "    return (tf.Variable(init_bias_vals))"
   ]
  },
  {
   "cell_type": "code",
   "execution_count": 26,
   "metadata": {},
   "outputs": [],
   "source": [
    "def normal_full_layer(input_layer, size):\n",
    "    input_size = int(input_layer.get_shape()[1])\n",
    "    W = init_weights([input_size, size])\n",
    "    b = init_bias([size])\n",
    "    return (tf.nn.relu(tf.matmul(input_layer, W)+b))"
   ]
  },
  {
   "cell_type": "code",
   "execution_count": 27,
   "metadata": {},
   "outputs": [],
   "source": [
    "def output_full_layer(input_layer, size):\n",
    "    input_size = int(input_layer.get_shape()[1])\n",
    "    W = init_weights([input_size, size])\n",
    "    b = init_bias([size])\n",
    "    return (tf.matmul(input_layer, W)+b)"
   ]
  },
  {
   "cell_type": "markdown",
   "metadata": {},
   "source": [
    "### Placeholders"
   ]
  },
  {
   "cell_type": "code",
   "execution_count": 28,
   "metadata": {},
   "outputs": [],
   "source": [
    "with tf.name_scope(\"Inputs\"):\n",
    "    x = tf.placeholder(tf.float32, shape=[None, 10])\n",
    "    y_true = tf.placeholder(tf.float32, shape=[None, 2])\n",
    "    hold_prob = tf.placeholder(tf.float32, name=\"hold_probability\")\n",
    "    batch_size = tf.placeholder(tf.int64, name=\"batch_size\")\n",
    "    learning_rate = tf.placeholder(tf.float32, name=\"learning_rate\")"
   ]
  },
  {
   "cell_type": "markdown",
   "metadata": {},
   "source": [
    "### Dataset"
   ]
  },
  {
   "cell_type": "code",
   "execution_count": 32,
   "metadata": {},
   "outputs": [],
   "source": [
    "with tf.name_scope(\"Datasets\"):\n",
    "    with tf.name_scope(\"Train_Dataset\"):\n",
    "        train_dataset = tf.data.Dataset.from_tensor_slices((train_y, train_x))\n",
    "        train_dataset = train_dataset.shuffle(3000)\n",
    "        train_dataset = train_dataset.repeat()\n",
    "        train_dataset = train_dataset.batch(batch_size)\n",
    "    \n",
    "    with tf.name_scope(\"eval_train_dataset\"):\n",
    "        eval_train_dataset = tf.data.Dataset.from_tensor_slices((train_y, train_x))\n",
    "        eval_train_dataset = eval_train_dataset.batch(batch_size)\n",
    "        \n",
    "    with tf.name_scope(\"validation_dataset\"):\n",
    "        validation_dataset = tf.data.Dataset.from_tensor_slices((validation_y, validation_x))\n",
    "        validation_dataset = validation_dataset.batch(batch_size)\n",
    "    \n",
    "    with tf.name_scope(\"test_dataset\"):\n",
    "        test_dataset = tf.data.Dataset.from_tensor_slices((test_features))\n",
    "        test_dataset = test_dataset.batch(batch_size)"
   ]
  },
  {
   "cell_type": "markdown",
   "metadata": {},
   "source": [
    "### Iterators"
   ]
  },
  {
   "cell_type": "code",
   "execution_count": 36,
   "metadata": {},
   "outputs": [],
   "source": [
    "with tf.name_scope(\"Iterator\"):\n",
    "    # train iterator\n",
    "    with tf.name_scope(\"Train_Iterator\"):\n",
    "        train_iterator = tf.data.Iterator.from_structure(train_dataset.output_types, train_dataset.output_shapes)\n",
    "        next_element_train = train_iterator.get_next()\n",
    "        train_init_op = train_iterator.make_initializer(train_dataset)\n",
    "    # train evaluation iterator\n",
    "    with tf.name_scope(\"train_evaluation_iterator\"):\n",
    "        eval_train_iterator = tf.data.Iterator.from_structure(eval_train_dataset.output_types, eval_train_dataset.output_shapes)\n",
    "        next_element_eval_train = eval_train_iterator.get_next()\n",
    "        eval_train_init_op = eval_train_iterator.make_initializer(eval_train_dataset)\n",
    "    # validation iterator\n",
    "    with tf.name_scope(\"validation_iterator\"):\n",
    "        validation_iterator = tf.data.Iterator.from_structure(validation_dataset.output_types, validation_dataset.output_shapes)\n",
    "        next_element_validation = validation_iterator.get_next()\n",
    "        validation_init_op = validation_iterator.make_initializer(validation_dataset)\n",
    "    # test iterator\n",
    "    with tf.name_scope(\"test_iterator\"):\n",
    "        test_iterator = tf.data.Iterator.from_structure(test_dataset.output_types, test_dataset.output_shapes)\n",
    "        next_element_test = test_iterator.get_next()\n",
    "        test_init_op = test_iterator.make_initializer(test_dataset)"
   ]
  },
  {
   "cell_type": "markdown",
   "metadata": {},
   "source": [
    "### Graph"
   ]
  },
  {
   "cell_type": "code",
   "execution_count": 42,
   "metadata": {},
   "outputs": [],
   "source": [
    "with tf.name_scope(\"graph\"):\n",
    "    hidden_1 = normal_full_layer(x, 256)\n",
    "    hidden_2 = normal_full_layer(hidden_1, 512)\n",
    "    dropout_1 = tf.nn.dropout(hidden_2, keep_prob=hold_prob)\n",
    "    hidden_3 = normal_full_layer(dropout_1, 256)\n",
    "    hidden_4 = normal_full_layer(hidden_3, 64)\n",
    "    dropout_2 = tf.nn.dropout(hidden_4, keep_prob=hold_prob)\n",
    "    y_pred = output_full_layer(dropout_2, 2)"
   ]
  },
  {
   "cell_type": "markdown",
   "metadata": {},
   "source": [
    "### Loss function"
   ]
  },
  {
   "cell_type": "code",
   "execution_count": 43,
   "metadata": {},
   "outputs": [],
   "source": [
    "with tf.name_scope(\"Loss\"):\n",
    "    cross_entropy = tf.nn.softmax_cross_entropy_with_logits_v2(labels=y_true, logits=y_pred)\n",
    "    mean_cross_entropy = tf.reduce_mean(cross_entropy)"
   ]
  },
  {
   "cell_type": "markdown",
   "metadata": {},
   "source": [
    "### Optimizer"
   ]
  },
  {
   "cell_type": "code",
   "execution_count": 44,
   "metadata": {},
   "outputs": [],
   "source": [
    "with tf.name_scope(\"optimizer\"):\n",
    "    optimizer = tf.train.AdamOptimizer(learning_rate=learning_rate)"
   ]
  },
  {
   "cell_type": "markdown",
   "metadata": {},
   "source": [
    "### Train Function"
   ]
  },
  {
   "cell_type": "code",
   "execution_count": 45,
   "metadata": {},
   "outputs": [],
   "source": [
    "with tf.name_scope(\"training\"):\n",
    "    train = optimizer.minimize(mean_cross_entropy)"
   ]
  },
  {
   "cell_type": "markdown",
   "metadata": {},
   "source": [
    "### Prediction function"
   ]
  },
  {
   "cell_type": "code",
   "execution_count": 46,
   "metadata": {},
   "outputs": [],
   "source": [
    "with tf.name_scope(\"Predicting\"):\n",
    "    y_soft = tf.nn.softmax(y_pred)\n",
    "    prediction = tf.argmax(y_soft, axis=1)"
   ]
  },
  {
   "cell_type": "markdown",
   "metadata": {},
   "source": [
    "### Evalution Metrics - Accuracy, Loss"
   ]
  },
  {
   "cell_type": "code",
   "execution_count": 47,
   "metadata": {},
   "outputs": [],
   "source": [
    "# Accuracy\n",
    "with tf.name_scope(\"Accuracy_tensorboard\"):\n",
    "    y_true_arg_max = tf.argmax(y_true, axis=1)\n",
    "    correct_predictions = tf.equal(prediction, y_true_arg_max)\n",
    "    batch_acc = tf.reduce_mean(tf.cast(correct_predictions, tf.float32))\n",
    "    acc_arr = tf.placeholder(tf.float32)\n",
    "    full_accuracy = tf.reduce_mean(acc_arr)\n",
    "    accuracy_summary = tf.summary.scalar(\"Accuracy\", full_accuracy)"
   ]
  },
  {
   "cell_type": "code",
   "execution_count": 48,
   "metadata": {},
   "outputs": [],
   "source": [
    "# Loss\n",
    "with tf.name_scope(\"Loss_tensorboard\"):\n",
    "    loss_arr = tf.placeholder(tf.float32)\n",
    "    full_loss = tf.reduce_mean(loss_arr)\n",
    "    loss_summary = tf.summary.scalar(\"Loss\", full_loss)"
   ]
  },
  {
   "cell_type": "code",
   "execution_count": 49,
   "metadata": {},
   "outputs": [],
   "source": [
    "# Summary merger\n",
    "merged_op = tf.summary.merge_all()"
   ]
  },
  {
   "cell_type": "markdown",
   "metadata": {},
   "source": [
    "### Checkpoint saver"
   ]
  },
  {
   "cell_type": "code",
   "execution_count": 50,
   "metadata": {},
   "outputs": [],
   "source": [
    "saver = tf.train.Saver()"
   ]
  },
  {
   "cell_type": "markdown",
   "metadata": {},
   "source": [
    "### Variable initializer"
   ]
  },
  {
   "cell_type": "code",
   "execution_count": 51,
   "metadata": {},
   "outputs": [],
   "source": [
    "init = tf.global_variables_initializer()"
   ]
  },
  {
   "cell_type": "markdown",
   "metadata": {},
   "source": [
    "### Training"
   ]
  },
  {
   "cell_type": "code",
   "execution_count": 53,
   "metadata": {},
   "outputs": [
    {
     "name": "stdout",
     "output_type": "stream",
     "text": [
      "Saved train summary at step #0\n",
      "Saved validation summary at step #0\n",
      "Saved checkpoint in step #0\n",
      "Finished first train call\n",
      "Saved train summary at step #300\n",
      "Saved validation summary at step #300\n",
      "Saved train summary at step #600\n",
      "Saved validation summary at step #600\n",
      "Saved train summary at step #900\n",
      "Saved validation summary at step #900\n",
      "Saved checkpoint in step #1000\n",
      "Saved train summary at step #1200\n",
      "Saved validation summary at step #1200\n",
      "Saved train summary at step #1500\n",
      "Saved validation summary at step #1500\n",
      "Saved train summary at step #1800\n",
      "Saved validation summary at step #1800\n",
      "Saved checkpoint in step #2000\n",
      "Saved train summary at step #2100\n",
      "Saved validation summary at step #2100\n",
      "Saved train summary at step #2400\n",
      "Saved validation summary at step #2400\n",
      "Saved train summary at step #2700\n",
      "Saved validation summary at step #2700\n",
      "Saved train summary at step #3000\n",
      "Saved validation summary at step #3000\n",
      "Saved checkpoint in step #3000\n",
      "Saved train summary at step #3300\n",
      "Saved validation summary at step #3300\n",
      "Saved train summary at step #3600\n",
      "Saved validation summary at step #3600\n",
      "Saved train summary at step #3900\n",
      "Saved validation summary at step #3900\n",
      "Saved checkpoint in step #4000\n",
      "Saved train summary at step #4200\n",
      "Saved validation summary at step #4200\n",
      "Saved train summary at step #4500\n",
      "Saved validation summary at step #4500\n",
      "Saved train summary at step #4800\n",
      "Saved validation summary at step #4800\n",
      "Saved checkpoint in step #5000\n",
      "Saved train summary at step #5100\n",
      "Saved validation summary at step #5100\n",
      "Saved train summary at step #5400\n",
      "Saved validation summary at step #5400\n",
      "Saved train summary at step #5700\n",
      "Saved validation summary at step #5700\n",
      "Saved train summary at step #6000\n",
      "Saved validation summary at step #6000\n",
      "Saved checkpoint in step #6000\n",
      "Saved train summary at step #6300\n",
      "Saved validation summary at step #6300\n",
      "Saved train summary at step #6600\n",
      "Saved validation summary at step #6600\n",
      "Saved train summary at step #6900\n",
      "Saved validation summary at step #6900\n",
      "Saved checkpoint in step #7000\n",
      "Saved train summary at step #7200\n",
      "Saved validation summary at step #7200\n",
      "Saved train summary at step #7500\n",
      "Saved validation summary at step #7500\n",
      "Saved train summary at step #7800\n",
      "Saved validation summary at step #7800\n",
      "Saved checkpoint in step #8000\n",
      "Saved train summary at step #8100\n",
      "Saved validation summary at step #8100\n",
      "Saved train summary at step #8400\n",
      "Saved validation summary at step #8400\n",
      "Saved train summary at step #8700\n",
      "Saved validation summary at step #8700\n",
      "Saved train summary at step #9000\n",
      "Saved validation summary at step #9000\n",
      "Saved checkpoint in step #9000\n",
      "Saved train summary at step #9300\n",
      "Saved validation summary at step #9300\n",
      "Saved train summary at step #9600\n",
      "Saved validation summary at step #9600\n",
      "Saved train summary at step #9900\n",
      "Saved validation summary at step #9900\n",
      "Saved checkpoint in step #10000\n",
      "Saved train summary at step #10200\n",
      "Saved validation summary at step #10200\n",
      "Saved train summary at step #10500\n",
      "Saved validation summary at step #10500\n",
      "Saved train summary at step #10800\n",
      "Saved validation summary at step #10800\n",
      "Saved checkpoint in step #11000\n",
      "Saved train summary at step #11100\n",
      "Saved validation summary at step #11100\n",
      "Saved train summary at step #11400\n",
      "Saved validation summary at step #11400\n",
      "Saved train summary at step #11700\n",
      "Saved validation summary at step #11700\n",
      "Saved train summary at step #12000\n",
      "Saved validation summary at step #12000\n",
      "Saved checkpoint in step #12000\n",
      "Saved train summary at step #12300\n",
      "Saved validation summary at step #12300\n",
      "Saved train summary at step #12600\n",
      "Saved validation summary at step #12600\n",
      "Saved train summary at step #12900\n",
      "Saved validation summary at step #12900\n",
      "Saved checkpoint in step #13000\n",
      "Saved train summary at step #13200\n",
      "Saved validation summary at step #13200\n",
      "Saved train summary at step #13500\n",
      "Saved validation summary at step #13500\n",
      "Saved train summary at step #13800\n",
      "Saved validation summary at step #13800\n",
      "Saved checkpoint in step #14000\n",
      "Saved train summary at step #14100\n",
      "Saved validation summary at step #14100\n",
      "Saved train summary at step #14400\n",
      "Saved validation summary at step #14400\n",
      "Saved train summary at step #14700\n",
      "Saved validation summary at step #14700\n",
      "Saved train summary at step #15000\n",
      "Saved validation summary at step #15000\n",
      "Saved checkpoint in step #15000\n",
      "Training is done\n"
     ]
    }
   ],
   "source": [
    "batch_size_input = 32\n",
    "learning_rate_input = 0.0001\n",
    "dropout_input = 0.7\n",
    "with tf.Session(config=tf.ConfigProto(log_device_placement=True)) as sess:\n",
    "    # initiate variables\n",
    "    sess.run(init)\n",
    "    \n",
    "    #saver.restore(sess, \"./best_models/eightyfouracc/final.ckpy\")\n",
    "    \n",
    "    # create filewriters for tensorboard\n",
    "    train_writer = tf.summary.FileWriter(\"./tensorboard/train_run2\", graph=tf.get_default_graph())\n",
    "    validation_writer = tf.summary.FileWriter(\"./tensorboard/validation_run2\", graph=tf.get_default_graph())\n",
    "    \n",
    "    # initiate training iterator\n",
    "    dataset_feed = {batch_size:batch_size_input}\n",
    "    sess.run(train_init_op, feed_dict=dataset_feed)\n",
    "    \n",
    "    # training\n",
    "    for step in range(15001):\n",
    "        # saving summary every one hundred steps\n",
    "        if step % 300 == 0:\n",
    "            # Evaluate training data metrics\n",
    "            acc = []\n",
    "            loss = []\n",
    "            sess.run(eval_train_init_op, feed_dict=dataset_feed)\n",
    "            # run one epoch on training evaluation dataset\n",
    "            while True:\n",
    "                try:\n",
    "                    batch_labels, batch_features = sess.run(next_element_eval_train)\n",
    "                except tf.errors.OutOfRangeError:\n",
    "                    break\n",
    "                train_eval_feed = {y_true:batch_labels, x:batch_features, hold_prob:1.0}\n",
    "                acc.append(sess.run(batch_acc, feed_dict=train_eval_feed))\n",
    "                loss.append(sess.run(mean_cross_entropy, feed_dict=train_eval_feed))\n",
    "            train_eval_feed = {acc_arr: acc, loss_arr:loss}\n",
    "            # save the summary\n",
    "            summary = sess.run(merged_op, feed_dict=train_eval_feed)\n",
    "            train_writer.add_summary(summary, step)\n",
    "            train_writer.flush()\n",
    "            print(\"Saved train summary at step #{}\".format(step))\n",
    "            \n",
    "            # Evaluate validation data metrics\n",
    "            acc = []\n",
    "            loss = []\n",
    "            sess.run(validation_init_op, feed_dict=dataset_feed)\n",
    "            while True:\n",
    "                try:\n",
    "                    batch_labels, batch_features = sess.run(next_element_validation)\n",
    "                except tf.errors.OutOfRangeError:\n",
    "                    break\n",
    "                validation_feed = {y_true:batch_labels, x:batch_features, hold_prob:1.0}\n",
    "                acc.append(sess.run(batch_acc, feed_dict=validation_feed))\n",
    "                loss.append(sess.run(mean_cross_entropy, feed_dict=validation_feed))\n",
    "            validation_feed = {acc_arr: acc, loss_arr:loss}\n",
    "            summary = sess.run(merged_op, feed_dict=validation_feed)\n",
    "            validation_writer.add_summary(summary, step)\n",
    "            validation_writer.flush()\n",
    "            print(\"Saved validation summary at step #{}\".format(step))\n",
    "        \n",
    "        # Checkpoint saving every 1000 steps\n",
    "        if step % 1000 == 0:\n",
    "            saver.save(sess, \"./model/step_{}.ckpy\".format(step))\n",
    "            print(\"Saved checkpoint in step #{}\".format(step))\n",
    "        \n",
    "        # training\n",
    "        batch_labels, batch_features = sess.run(next_element_train)\n",
    "        train_feed = {y_true:batch_labels, x:batch_features, hold_prob:dropout_input,\n",
    "                  learning_rate:learning_rate_input}\n",
    "        sess.run(train, feed_dict=train_feed)\n",
    "        if step == 0:\n",
    "            print(\"Finished first train call\")\n",
    "    \n",
    "    saver.save(sess, \"./model/final.ckpy\")\n",
    "    print(\"Training is done\")"
   ]
  },
  {
   "cell_type": "markdown",
   "metadata": {},
   "source": [
    "### Prediction"
   ]
  },
  {
   "cell_type": "code",
   "execution_count": 62,
   "metadata": {},
   "outputs": [
    {
     "name": "stdout",
     "output_type": "stream",
     "text": [
      "INFO:tensorflow:Restoring parameters from ./model/final.ckpy\n"
     ]
    }
   ],
   "source": [
    "batch_size_input = 32\n",
    "\n",
    "with tf.Session(config=tf.ConfigProto(log_device_placement=True)) as sess:\n",
    "    saver.restore(sess, \"./model/final.ckpy\")\n",
    "    dataset_feed = {batch_size:batch_size_input}\n",
    "    sess.run(test_init_op, feed_dict=dataset_feed)\n",
    "    \n",
    "    results = {\"PassengerId\":[], \"Survived\":[]}\n",
    "    passenger_num = 892\n",
    "    while True:\n",
    "        try:\n",
    "            batch_features = sess.run(next_element_test)\n",
    "        except tf.errors.OutOfRangeError:\n",
    "            break\n",
    "        test_feed = {x:batch_features, hold_prob:1, batch_size:batch_size_input}\n",
    "        predicts = sess.run(prediction, feed_dict=test_feed)\n",
    "        for pred in predicts:\n",
    "            results[\"PassengerId\"].append(passenger_num)\n",
    "            passenger_num += 1\n",
    "            results[\"Survived\"].append(pred)"
   ]
  },
  {
   "cell_type": "code",
   "execution_count": 63,
   "metadata": {},
   "outputs": [],
   "source": [
    "results_df = pd.DataFrame(results)"
   ]
  },
  {
   "cell_type": "code",
   "execution_count": 65,
   "metadata": {},
   "outputs": [
    {
     "data": {
      "text/html": [
       "<div>\n",
       "<style scoped>\n",
       "    .dataframe tbody tr th:only-of-type {\n",
       "        vertical-align: middle;\n",
       "    }\n",
       "\n",
       "    .dataframe tbody tr th {\n",
       "        vertical-align: top;\n",
       "    }\n",
       "\n",
       "    .dataframe thead th {\n",
       "        text-align: right;\n",
       "    }\n",
       "</style>\n",
       "<table border=\"1\" class=\"dataframe\">\n",
       "  <thead>\n",
       "    <tr style=\"text-align: right;\">\n",
       "      <th></th>\n",
       "      <th>PassengerId</th>\n",
       "      <th>Survived</th>\n",
       "    </tr>\n",
       "  </thead>\n",
       "  <tbody>\n",
       "    <tr>\n",
       "      <th>413</th>\n",
       "      <td>1305</td>\n",
       "      <td>0</td>\n",
       "    </tr>\n",
       "    <tr>\n",
       "      <th>414</th>\n",
       "      <td>1306</td>\n",
       "      <td>1</td>\n",
       "    </tr>\n",
       "    <tr>\n",
       "      <th>415</th>\n",
       "      <td>1307</td>\n",
       "      <td>0</td>\n",
       "    </tr>\n",
       "    <tr>\n",
       "      <th>416</th>\n",
       "      <td>1308</td>\n",
       "      <td>0</td>\n",
       "    </tr>\n",
       "    <tr>\n",
       "      <th>417</th>\n",
       "      <td>1309</td>\n",
       "      <td>0</td>\n",
       "    </tr>\n",
       "  </tbody>\n",
       "</table>\n",
       "</div>"
      ],
      "text/plain": [
       "     PassengerId  Survived\n",
       "413         1305         0\n",
       "414         1306         1\n",
       "415         1307         0\n",
       "416         1308         0\n",
       "417         1309         0"
      ]
     },
     "execution_count": 65,
     "metadata": {},
     "output_type": "execute_result"
    }
   ],
   "source": [
    "results_df.tail()"
   ]
  },
  {
   "cell_type": "code",
   "execution_count": 68,
   "metadata": {},
   "outputs": [
    {
     "data": {
      "text/html": [
       "<div>\n",
       "<style scoped>\n",
       "    .dataframe tbody tr th:only-of-type {\n",
       "        vertical-align: middle;\n",
       "    }\n",
       "\n",
       "    .dataframe tbody tr th {\n",
       "        vertical-align: top;\n",
       "    }\n",
       "\n",
       "    .dataframe thead th {\n",
       "        text-align: right;\n",
       "    }\n",
       "</style>\n",
       "<table border=\"1\" class=\"dataframe\">\n",
       "  <thead>\n",
       "    <tr style=\"text-align: right;\">\n",
       "      <th></th>\n",
       "      <th>Survived</th>\n",
       "    </tr>\n",
       "    <tr>\n",
       "      <th>PassengerId</th>\n",
       "      <th></th>\n",
       "    </tr>\n",
       "  </thead>\n",
       "  <tbody>\n",
       "    <tr>\n",
       "      <th>892</th>\n",
       "      <td>0</td>\n",
       "    </tr>\n",
       "    <tr>\n",
       "      <th>893</th>\n",
       "      <td>0</td>\n",
       "    </tr>\n",
       "    <tr>\n",
       "      <th>894</th>\n",
       "      <td>0</td>\n",
       "    </tr>\n",
       "    <tr>\n",
       "      <th>895</th>\n",
       "      <td>0</td>\n",
       "    </tr>\n",
       "    <tr>\n",
       "      <th>896</th>\n",
       "      <td>1</td>\n",
       "    </tr>\n",
       "  </tbody>\n",
       "</table>\n",
       "</div>"
      ],
      "text/plain": [
       "             Survived\n",
       "PassengerId          \n",
       "892                 0\n",
       "893                 0\n",
       "894                 0\n",
       "895                 0\n",
       "896                 1"
      ]
     },
     "execution_count": 68,
     "metadata": {},
     "output_type": "execute_result"
    }
   ],
   "source": [
    "results_df.set_index(\"PassengerId\", inplace=True)\n",
    "results_df.head()"
   ]
  },
  {
   "cell_type": "code",
   "execution_count": 69,
   "metadata": {},
   "outputs": [],
   "source": [
    "results_df.to_csv(\"results.csv\")"
   ]
  },
  {
   "cell_type": "code",
   "execution_count": null,
   "metadata": {},
   "outputs": [],
   "source": []
  }
 ],
 "metadata": {
  "kernelspec": {
   "display_name": "Python 3",
   "language": "python",
   "name": "python3"
  },
  "language_info": {
   "codemirror_mode": {
    "name": "ipython",
    "version": 3
   },
   "file_extension": ".py",
   "mimetype": "text/x-python",
   "name": "python",
   "nbconvert_exporter": "python",
   "pygments_lexer": "ipython3",
   "version": "3.5.3"
  }
 },
 "nbformat": 4,
 "nbformat_minor": 2
}
